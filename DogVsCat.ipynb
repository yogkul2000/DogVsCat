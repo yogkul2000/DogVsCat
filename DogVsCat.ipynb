{
  "nbformat": 4,
  "nbformat_minor": 0,
  "metadata": {
    "kernelspec": {
      "display_name": "Python 3",
      "language": "python",
      "name": "python3"
    },
    "language_info": {
      "codemirror_mode": {
        "name": "ipython",
        "version": 3
      },
      "file_extension": ".py",
      "mimetype": "text/x-python",
      "name": "python",
      "nbconvert_exporter": "python",
      "pygments_lexer": "ipython3",
      "version": "3.6.6"
    },
    "colab": {
      "name": "DogVsCat Classifier.ipynb",
      "provenance": []
    }
  },
  "cells": [
    {
      "cell_type": "code",
      "metadata": {
        "scrolled": true,
        "id": "k23CvDATQOtt",
        "colab_type": "code",
        "colab": {}
      },
      "source": [
        "from tensorflow.keras.models import Sequential\n",
        "from tensorflow.keras.layers import Flatten\n",
        "from tensorflow.keras.layers import Dense\n",
        "from tensorflow.keras.layers import Conv2D\n",
        "from tensorflow.keras.layers import MaxPooling2D\n",
        "from tensorflow.keras.callbacks import TensorBoard"
      ],
      "execution_count": 0,
      "outputs": []
    },
    {
      "cell_type": "code",
      "metadata": {
        "scrolled": true,
        "id": "ruXR8FWLQOtx",
        "colab_type": "code",
        "colab": {}
      },
      "source": [
        "from warnings import filterwarnings\n",
        "filterwarnings('ignore')"
      ],
      "execution_count": 0,
      "outputs": []
    },
    {
      "cell_type": "code",
      "metadata": {
        "scrolled": true,
        "id": "pcd1nndxQOt1",
        "colab_type": "code",
        "colab": {}
      },
      "source": [
        "classifier = Sequential()\n",
        "classifier.add(Conv2D(32,(3,3),input_shape=(64,64,3),activation = 'relu'))\n",
        "classifier.add(MaxPooling2D(pool_size=(2,2),strides=2))\n",
        "classifier.add(Conv2D(32,(3,3),activation = 'relu'))\n",
        "classifier.add(MaxPooling2D(pool_size=(2,2),strides=2))\n",
        "classifier.add(Flatten())\n",
        "classifier.add(Dense(units=128,activation='relu'))\n",
        "classifier.add(Dense(units=1,activation='sigmoid'))\n",
        "adam = tensorflow.keras.optimizers.Adam(lr=0.001, beta_1=0.9, beta_2=0.999, epsilon=None, decay=0.0, amsgrad=False)\n",
        "classifier.compile(optimizer=adam,loss='binary_crossentropy',metrics=['accuracy'])\n"
      ],
      "execution_count": 0,
      "outputs": []
    },
    {
      "cell_type": "code",
      "metadata": {
        "scrolled": true,
        "id": "42SgMB6rQOt5",
        "colab_type": "code",
        "colab": {},
        "outputId": "ef2085cd-f06a-44e0-d6f2-0842ca3ec1e7"
      },
      "source": [
        "from tensorflow.keras.preprocessing.image import ImageDataGenerator\n",
        "train_datagen = ImageDataGenerator(rescale=1./255,\n",
        "                                   shear_range=0.1,\n",
        "                                   zoom_range=0.1,\n",
        "                                   horizontal_flip=True)\n",
        "test_datagen = ImageDataGenerator(rescale=1./255)\n",
        "\n",
        "#Training Set\n",
        "train_set = train_datagen.flow_from_directory('train',\n",
        "                                             target_size=(64,64),\n",
        "                                             batch_size=32,\n",
        "                                             class_mode='binary')\n",
        "#Validation Set\n",
        "test_set = test_datagen.flow_from_directory('test',\n",
        "                                           target_size=(64,64),\n",
        "                                           batch_size = 32,\n",
        "                                           class_mode='binary',\n",
        "                                           shuffle=False)\n",
        "#Test Set /no output available\n",
        "test_set1 = test_datagen.flow_from_directory('test1',\n",
        "                                            target_size=(64,64),\n",
        "                                            batch_size=32,\n",
        "                                            shuffle=False)\n",
        "\n"
      ],
      "execution_count": 0,
      "outputs": [
        {
          "output_type": "stream",
          "text": [
            "Found 19998 images belonging to 2 classes.\n",
            "Found 5000 images belonging to 2 classes.\n",
            "Found 12500 images belonging to 1 classes.\n"
          ],
          "name": "stdout"
        }
      ]
    },
    {
      "cell_type": "code",
      "metadata": {
        "scrolled": true,
        "id": "yLAgzH58QOt_",
        "colab_type": "code",
        "colab": {}
      },
      "source": [
        "%%capture\n",
        "classifier.fit_generator(train_set,\n",
        "                        steps_per_epoch=800, \n",
        "                        epochs = 100,\n",
        "                        validation_data = test_set,\n",
        "                        validation_steps = 20, \n",
        "                        \n",
        "                        );\n",
        "\n",
        "\n",
        "\n",
        "\n",
        "#classifier.save('content/dogcat_model.h5')"
      ],
      "execution_count": 0,
      "outputs": []
    },
    {
      "cell_type": "code",
      "metadata": {
        "id": "cZJYlv_FQOuC",
        "colab_type": "code",
        "colab": {}
      },
      "source": [
        "from tensorflow.keras.models import load_model\n",
        "classifier = load_model('content/dogcat_model.h5')"
      ],
      "execution_count": 0,
      "outputs": []
    },
    {
      "cell_type": "markdown",
      "metadata": {
        "id": "plZZ2o_qQOuF",
        "colab_type": "text"
      },
      "source": [
        "### Prediction of Single Image"
      ]
    },
    {
      "cell_type": "code",
      "metadata": {
        "id": "DyWAEI_JQOuG",
        "colab_type": "code",
        "colab": {}
      },
      "source": [
        "#Prediction of image\n",
        "%matplotlib inline\n",
        "import tensorflow\n",
        "from tensorflow.keras.preprocessing import image\n",
        "import matplotlib.pyplot as plt\n",
        "import numpy as np\n",
        "img1 = image.load_img('test/Cat/1.jpg', target_size=(64, 64))\n",
        "img = image.img_to_array(img1)\n",
        "img = img/255\n",
        "img = np.expand_dims(img, axis=0)\n",
        "prediction = classifier.predict(img, batch_size=None,steps=1) \n",
        "if(prediction[:,:]>0.5):\n",
        "    value ='Dog :%1.2f'%(prediction[0,0])\n",
        "    plt.text(20, 62,value,color='red',fontsize=18,bbox=dict(facecolor='white',alpha=0.8))\n",
        "else:\n",
        "    value ='Cat :%1.2f'%(1.0-prediction[0,0])\n",
        "    plt.text(20, 62,value,color='red',fontsize=18,bbox=dict(facecolor='white',alpha=0.8))\n",
        "\n",
        "plt.imshow(img1)\n",
        "plt.show()\n"
      ],
      "execution_count": 0,
      "outputs": []
    },
    {
      "cell_type": "code",
      "metadata": {
        "id": "kvbPLQsyQOuP",
        "colab_type": "code",
        "colab": {},
        "outputId": "01448e86-2b53-4807-c520-b15414cf63cc"
      },
      "source": [
        "misclassified = df[df['y']!=df['y_pred']]\n",
        "print('Total misclassified image from 5000 Validation images : %d'%misclassified['y'].count())"
      ],
      "execution_count": 0,
      "outputs": [
        {
          "output_type": "stream",
          "text": [
            "Total misclassified image from 5000 Validation images : 122\n"
          ],
          "name": "stdout"
        }
      ]
    },
    {
      "cell_type": "code",
      "metadata": {
        "id": "YmGG42lLQOuS",
        "colab_type": "code",
        "colab": {},
        "outputId": "29bf511c-3e93-4cbd-da10-428b68e748cd"
      },
      "source": [
        "#Prediction of test set\n",
        "from sklearn.metrics import confusion_matrix \n",
        "import matplotlib.pyplot as plt\n",
        "import seaborn as sns\n",
        "\n",
        "conf_matrix = confusion_matrix(df.y,df.y_pred)\n",
        "sns.heatmap(conf_matrix,cmap=\"YlGnBu\",annot=True,fmt='g');\n",
        "plt.xlabel('predicted value')\n",
        "plt.ylabel('true value');"
      ],
      "execution_count": 0,
      "outputs": [
        {
          "output_type": "display_data",
          "data": {
            "image/png": "[encoded data removed]",
            "text/plain": [
              "<Figure size 432x288 with 2 Axes>"
            ]
          },
          "metadata": {
            "tags": []
          }
        }
      ]
    },
    {
      "cell_type": "code",
      "metadata": {
        "id": "nEWKxoV2QOuZ",
        "colab_type": "code",
        "colab": {},
        "outputId": "7db692e9-12eb-4bdc-f3a6-38a7b327490a"
      },
      "source": [
        "classifier.summary()"
      ],
      "execution_count": 0,
      "outputs": [
        {
          "output_type": "stream",
          "text": [
            "_________________________________________________________________\n",
            "Layer (type)                 Output Shape              Param #   \n",
            "=================================================================\n",
            "conv2d_6 (Conv2D)            (None, 62, 62, 32)        896       \n",
            "_________________________________________________________________\n",
            "max_pooling2d_6 (MaxPooling2 (None, 31, 31, 32)        0         \n",
            "_________________________________________________________________\n",
            "conv2d_7 (Conv2D)            (None, 29, 29, 32)        9248      \n",
            "_________________________________________________________________\n",
            "max_pooling2d_7 (MaxPooling2 (None, 14, 14, 32)        0         \n",
            "_________________________________________________________________\n",
            "flatten_3 (Flatten)          (None, 6272)              0         \n",
            "_________________________________________________________________\n",
            "dense_6 (Dense)              (None, 128)               802944    \n",
            "_________________________________________________________________\n",
            "dense_7 (Dense)              (None, 1)                 129       \n",
            "=================================================================\n",
            "Total params: 813,217\n",
            "Trainable params: 813,217\n",
            "Non-trainable params: 0\n",
            "_________________________________________________________________\n"
          ],
          "name": "stdout"
        }
      ]
    },
    {
      "cell_type": "code",
      "metadata": {
        "id": "OTX1D21FQOu3",
        "colab_type": "code",
        "colab": {}
      },
      "source": [
        "%%capture\n",
        "# Model Accuracy\n",
        "x1 = classifier.evaluate_generator(train_set)\n",
        "x2 = classifier.evaluate_generator(test_set)"
      ],
      "execution_count": 0,
      "outputs": []
    },
    {
      "cell_type": "code",
      "metadata": {
        "id": "GDKnrwQpQOu5",
        "colab_type": "code",
        "colab": {},
        "outputId": "e6682584-6412-4eff-feaa-4b596d9aaa50"
      },
      "source": [
        "print('Training Accuracy  : %1.2f%%     Training loss  : %1.6f'%(x1[1]*100,x1[0]))\n",
        "print('Validation Accuracy: %1.2f%%     Validation loss: %1.6f'%(x2[1]*100,x2[0]))"
      ],
      "execution_count": 0,
      "outputs": [
        {
          "output_type": "stream",
          "text": [
            "Training Accuracy  : 99.96%     Training loss  : 0.002454\n",
            "Validation Accuracy: 97.56%     Validation loss: 0.102678\n"
          ],
          "name": "stdout"
        }
      ]
    }
  ]
}